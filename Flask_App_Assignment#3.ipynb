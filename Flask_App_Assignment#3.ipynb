{
 "cells": [
  {
   "cell_type": "code",
   "execution_count": 2,
   "id": "08fe54c0",
   "metadata": {},
   "outputs": [],
   "source": [
    "from flask import Flask, request, jsonify\n",
    "from flask_sqlalchemy import SQLAlchemy\n",
    "from datetime import datetime\n",
    "\n",
    "app = Flask(__name__)\n",
    "app.config['SQLALCHEMY_DATABASE_URI'] = 'sqlite:///students.db'\n",
    "db = SQLAlchemy(app)"
   ]
  },
  {
   "cell_type": "code",
   "execution_count": 3,
   "id": "6235008f",
   "metadata": {},
   "outputs": [],
   "source": [
    "class Student(db.Model):\n",
    "    student_id = db.Column(db.Integer, primary_key=True)\n",
    "    first_name = db.Column(db.String(50), nullable=False)\n",
    "    last_name = db.Column(db.String(50), nullable=False)\n",
    "    dob = db.Column(db.Date, nullable=False)\n",
    "    amount_due = db.Column(db.Float, nullable=False)\n",
    "\n",
    "    def __repr__(self):\n",
    "        return f'<Student {self.first_name} {self.last_name}>'"
   ]
  },
  {
   "cell_type": "code",
   "execution_count": 4,
   "id": "a0afe9ff",
   "metadata": {},
   "outputs": [],
   "source": [
    "\n",
    "def insert_sample_data():\n",
    "    sample_students = [\n",
    "        {\"first_name\": \"Alice\", \"last_name\": \"Smith\", \"dob\": \"2000-01-01\", \"amount_due\": 100.0},\n",
    "        {\"first_name\": \"Bob\", \"last_name\": \"Johnson\", \"dob\": \"2001-02-02\", \"amount_due\": 200.0},\n",
    "        {\"first_name\": \"Charlie\", \"last_name\": \"Williams\", \"dob\": \"2002-03-03\", \"amount_due\": 300.0},\n",
    "        {\"first_name\": \"David\", \"last_name\": \"Brown\", \"dob\": \"2003-04-04\", \"amount_due\": 400.0},\n",
    "        {\"first_name\": \"Eva\", \"last_name\": \"Jones\", \"dob\": \"2004-05-05\", \"amount_due\": 500.0},\n",
    "        {\"first_name\": \"Frank\", \"last_name\": \"Garcia\", \"dob\": \"2005-06-06\", \"amount_due\": 600.0},\n",
    "        {\"first_name\": \"Grace\", \"last_name\": \"Martinez\", \"dob\": \"2006-07-07\", \"amount_due\": 700.0},\n",
    "        {\"first_name\": \"Henry\", \"last_name\": \"Davis\", \"dob\": \"2007-08-08\", \"amount_due\": 800.0},\n",
    "        {\"first_name\": \"Ivy\", \"last_name\": \"Rodriguez\", \"dob\": \"2008-09-09\", \"amount_due\": 900.0},\n",
    "        {\"first_name\": \"Jack\", \"last_name\": \"Miller\", \"dob\": \"2009-10-10\", \"amount_due\": 1000.0}\n",
    "    ]\n",
    "\n",
    "    for student in sample_students:\n",
    "        new_student = Student(\n",
    "            first_name=student['first_name'],\n",
    "            last_name=student['last_name'],\n",
    "            dob=datetime.strptime(student['dob'], '%Y-%m-%d').date(),\n",
    "            amount_due=student['amount_due']\n",
    "        )\n",
    "        db.session.add(new_student)\n",
    "    db.session.commit()"
   ]
  },
  {
   "cell_type": "code",
   "execution_count": 5,
   "id": "8dab26c3",
   "metadata": {},
   "outputs": [],
   "source": [
    "with app.app_context():\n",
    "    db.create_all()\n"
   ]
  },
  {
   "cell_type": "code",
   "execution_count": 6,
   "id": "d4e9442e",
   "metadata": {},
   "outputs": [],
   "source": [
    "@app.route('/student', methods=['POST'])\n",
    "def add_student():\n",
    "    data = request.get_json()\n",
    "    new_student = Student(\n",
    "        first_name=data['first_name'],\n",
    "        last_name=data['last_name'],\n",
    "        dob=datetime.strptime(data['dob'], '%Y-%m-%d').date(),\n",
    "        amount_due=data['amount_due']\n",
    "    )\n",
    "    db.session.add(new_student)\n",
    "    db.session.commit()\n",
    "    return jsonify({'message': 'Student created successfully'}), 201\n"
   ]
  },
  {
   "cell_type": "code",
   "execution_count": 7,
   "id": "fbeff345",
   "metadata": {},
   "outputs": [],
   "source": [
    "@app.route('/students', methods=['GET'])\n",
    "def get_students():\n",
    "    students = Student.query.all()\n",
    "    result = []\n",
    "    for student in students:\n",
    "        student_data = {\n",
    "            'student_id': student.student_id,\n",
    "            'first_name': student.first_name,\n",
    "            'last_name': student.last_name,\n",
    "            'dob': student.dob.strftime('%Y-%m-%d'),\n",
    "            'amount_due': student.amount_due\n",
    "        }\n",
    "        result.append(student_data)\n",
    "    return jsonify(result)\n"
   ]
  },
  {
   "cell_type": "code",
   "execution_count": 8,
   "id": "2acd96c2",
   "metadata": {},
   "outputs": [],
   "source": [
    "@app.route('/student/<student_id>', methods=['GET'])\n",
    "def get_student(student_id):\n",
    "    student = Student.query.get(student_id)\n",
    "    if not student:\n",
    "        return jsonify({'message': 'Student not found'}), 404\n",
    "    \n",
    "    student_data = {\n",
    "        'student_id': student.student_id,\n",
    "        'first_name': student.first_name,\n",
    "        'last_name': student.last_name,\n",
    "        'dob': student.dob.strftime('%Y-%m-%d'),\n",
    "        'amount_due': student.amount_due\n",
    "    }\n",
    "    return jsonify(student_data)\n"
   ]
  },
  {
   "cell_type": "code",
   "execution_count": 9,
   "id": "6803e2cf",
   "metadata": {},
   "outputs": [],
   "source": [
    "@app.route('/student/<student_id>', methods=['PUT'])\n",
    "def update_student(student_id):\n",
    "    data = request.get_json()\n",
    "    student = Student.query.get(student_id)\n",
    "    if not student:\n",
    "        return jsonify({'message': 'Student not found'}), 404\n",
    "\n",
    "    student.first_name = data['first_name']\n",
    "    student.last_name = data['last_name']\n",
    "    student.dob = datetime.strptime(data['dob'], '%Y-%m-%d').date()\n",
    "    student.amount_due = data['amount_due']\n",
    "    db.session.commit()\n",
    "    return jsonify({'message': 'Student updated successfully'})\n"
   ]
  },
  {
   "cell_type": "code",
   "execution_count": 10,
   "id": "8349a334",
   "metadata": {},
   "outputs": [],
   "source": [
    "@app.route('/student/<student_id>', methods=['DELETE'])\n",
    "def delete_student(student_id):\n",
    "    student = Student.query.get(student_id)\n",
    "    if not student:\n",
    "        return jsonify({'message': 'Student not found'}), 404\n",
    "\n",
    "    db.session.delete(student)\n",
    "    db.session.commit()\n",
    "    return jsonify({'message': 'Student deleted successfully'})\n"
   ]
  },
  {
   "cell_type": "code",
   "execution_count": null,
   "id": "fc73cc5f",
   "metadata": {
    "scrolled": true
   },
   "outputs": [
    {
     "name": "stdout",
     "output_type": "stream",
     "text": [
      " * Serving Flask app '__main__'\n",
      " * Debug mode: on\n"
     ]
    },
    {
     "name": "stderr",
     "output_type": "stream",
     "text": [
      "WARNING: This is a development server. Do not use it in a production deployment. Use a production WSGI server instead.\n",
      " * Running on http://127.0.0.1:5000\n",
      "Press CTRL+C to quit\n"
     ]
    }
   ],
   "source": [
    "if __name__ == '__main__':\n",
    "    app.run(debug=True, use_reloader=False)\n"
   ]
  },
  {
   "cell_type": "code",
   "execution_count": null,
   "id": "8e2b8a39",
   "metadata": {},
   "outputs": [],
   "source": []
  }
 ],
 "metadata": {
  "kernelspec": {
   "display_name": "Python 3 (ipykernel)",
   "language": "python",
   "name": "python3"
  },
  "language_info": {
   "codemirror_mode": {
    "name": "ipython",
    "version": 3
   },
   "file_extension": ".py",
   "mimetype": "text/x-python",
   "name": "python",
   "nbconvert_exporter": "python",
   "pygments_lexer": "ipython3",
   "version": "3.10.9"
  }
 },
 "nbformat": 4,
 "nbformat_minor": 5
}
